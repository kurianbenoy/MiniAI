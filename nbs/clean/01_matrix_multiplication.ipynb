{
 "cells": [
  {
   "cell_type": "markdown",
   "id": "19d11acf-a317-4947-aebb-8ae70070215d",
   "metadata": {},
   "source": [
    "# Matrix Multiplication from Scratch\n",
    "\n",
    "The objective is for kurian to implement matrix multiplication from scratch"
   ]
  },
  {
   "cell_type": "code",
   "execution_count": 59,
   "id": "ef3dbfb8-b96f-4448-887e-ac730f203640",
   "metadata": {},
   "outputs": [],
   "source": [
    "import pickle\n",
    "import gzip\n",
    "import urllib.request\n",
    "from pathlib import Path\n",
    "from itertools import islice\n",
    "\n",
    "import torch\n",
    "import matplotlib.pyplot as plt\n",
    "torch.set_printoptions(linewidth=140, precision=2)"
   ]
  },
  {
   "cell_type": "markdown",
   "id": "468e6fbc-fab0-4664-b885-3b333abdcb83",
   "metadata": {},
   "source": [
    "## Getting data, visualizing and chunking into 28*28"
   ]
  },
  {
   "cell_type": "code",
   "execution_count": 2,
   "id": "4a6ae522-4406-4fb8-b81c-cc3a15886658",
   "metadata": {},
   "outputs": [],
   "source": [
    "MNIST_URL='https://github.com/mnielsen/neural-networks-and-deep-learning/blob/master/data/mnist.pkl.gz?raw=true'\n",
    "data_path = Path(\"../data\")\n",
    "data_path.mkdir(exist_ok=True)"
   ]
  },
  {
   "cell_type": "code",
   "execution_count": 3,
   "id": "62ac6e14-f9b2-4e4b-8450-2570237cf612",
   "metadata": {},
   "outputs": [],
   "source": [
    "data_gz = data_path/'mnist.pkl.gz'"
   ]
  },
  {
   "cell_type": "code",
   "execution_count": 4,
   "id": "49b28455-b6d8-4808-8849-a9c487ab7d95",
   "metadata": {},
   "outputs": [
    {
     "data": {
      "text/plain": [
       "(PosixPath('../data/mnist.pkl.gz'),\n",
       " <http.client.HTTPMessage at 0x7fd1f6382310>)"
      ]
     },
     "execution_count": 4,
     "metadata": {},
     "output_type": "execute_result"
    }
   ],
   "source": [
    "urllib.request.urlretrieve(MNIST_URL, data_gz)"
   ]
  },
  {
   "cell_type": "code",
   "execution_count": 5,
   "id": "fe349350-9877-492a-b1da-263756476332",
   "metadata": {},
   "outputs": [
    {
     "data": {
      "text/plain": [
       "[PosixPath('../data/mnist.pkl.gz')]"
      ]
     },
     "execution_count": 5,
     "metadata": {},
     "output_type": "execute_result"
    }
   ],
   "source": [
    "[x for x in data_path.iterdir()]"
   ]
  },
  {
   "cell_type": "code",
   "execution_count": 6,
   "id": "6942056b-687a-4cf3-961f-74b26b59bd65",
   "metadata": {},
   "outputs": [],
   "source": [
    "with gzip.open(data_gz, 'rb') as f:\n",
    "    ((x_train, y_train), (x_valid, y_valid), _) = pickle.load(f, encoding='latin1')"
   ]
  },
  {
   "cell_type": "code",
   "execution_count": 7,
   "id": "f9bdb5a1-5c74-4027-af25-4a7a6664a7a0",
   "metadata": {},
   "outputs": [],
   "source": [
    "img1 = list(x_train[100])"
   ]
  },
  {
   "cell_type": "code",
   "execution_count": 8,
   "id": "dc70e837-bba0-44b8-bf01-795743716f44",
   "metadata": {},
   "outputs": [],
   "source": [
    "# for i in range(784):\n",
    "#     print(i)"
   ]
  },
  {
   "cell_type": "code",
   "execution_count": 9,
   "id": "4fb6deac-139d-4838-92a3-7f8ce51a5813",
   "metadata": {},
   "outputs": [
    {
     "data": {
      "text/plain": [
       "28.0"
      ]
     },
     "execution_count": 9,
     "metadata": {},
     "output_type": "execute_result"
    }
   ],
   "source": [
    "len(img1)/28"
   ]
  },
  {
   "cell_type": "code",
   "execution_count": 10,
   "id": "263a75fe-c68b-428d-beaf-bb4f3a14d2d1",
   "metadata": {},
   "outputs": [],
   "source": [
    "def chunks(item, c_size):\n",
    "    for i in range(len(item)//c_size):\n",
    "        yield item[i*c_size:i*c_size+c_size]"
   ]
  },
  {
   "cell_type": "code",
   "execution_count": 11,
   "id": "eedad0c1-b32d-40b4-89cd-91bf20332ff8",
   "metadata": {},
   "outputs": [
    {
     "data": {
      "text/plain": [
       "28"
      ]
     },
     "execution_count": 11,
     "metadata": {},
     "output_type": "execute_result"
    }
   ],
   "source": [
    "len(list(chunks(img1, 28)))"
   ]
  },
  {
   "cell_type": "code",
   "execution_count": 12,
   "id": "3d7bf722-5887-4fd1-a0ae-5b97b1402270",
   "metadata": {},
   "outputs": [
    {
     "data": {
      "text/plain": [
       "<matplotlib.image.AxesImage at 0x7fd1f62e5c70>"
      ]
     },
     "execution_count": 12,
     "metadata": {},
     "output_type": "execute_result"
    },
    {
     "data": {
      "image/png": "[encoded data removed]",
      "text/plain": [
       "<Figure size 432x288 with 1 Axes>"
      ]
     },
     "metadata": {
      "needs_background": "light"
     },
     "output_type": "display_data"
    }
   ],
   "source": [
    "plt.imshow(list(chunks(img1, 28)))"
   ]
  },
  {
   "cell_type": "code",
   "execution_count": 13,
   "id": "ed72465a-9903-40af-a9fb-48fb10450d87",
   "metadata": {},
   "outputs": [
    {
     "data": {
      "text/plain": [
       "<itertools.islice at 0x7fd1f62fb900>"
      ]
     },
     "execution_count": 13,
     "metadata": {},
     "output_type": "execute_result"
    }
   ],
   "source": [
    "vals = iter(img1)\n",
    "islice(vals, 28)"
   ]
  },
  {
   "cell_type": "code",
   "execution_count": 14,
   "id": "1b386ca3-758a-4328-9877-b865580d1a39",
   "metadata": {},
   "outputs": [
    {
     "data": {
      "text/plain": [
       "[0.0,\n",
       " 0.0,\n",
       " 0.0,\n",
       " 0.0,\n",
       " 0.0,\n",
       " 0.0,\n",
       " 0.0,\n",
       " 0.0,\n",
       " 0.0,\n",
       " 0.0,\n",
       " 0.0,\n",
       " 0.0,\n",
       " 0.0,\n",
       " 0.0,\n",
       " 0.0,\n",
       " 0.0,\n",
       " 0.0,\n",
       " 0.0,\n",
       " 0.0,\n",
       " 0.0,\n",
       " 0.0,\n",
       " 0.0,\n",
       " 0.0,\n",
       " 0.0,\n",
       " 0.0,\n",
       " 0.0,\n",
       " 0.0,\n",
       " 0.0]"
      ]
     },
     "execution_count": 14,
     "metadata": {},
     "output_type": "execute_result"
    }
   ],
   "source": [
    "list(islice(vals, 28))"
   ]
  },
  {
   "cell_type": "code",
   "execution_count": 15,
   "id": "7228e196-c641-4707-a86f-704684245412",
   "metadata": {},
   "outputs": [],
   "source": [
    "class Matrix:\n",
    "    def __init__(self, item: list):\n",
    "        self.item = item\n",
    "    def __getitem__(self, index: list):\n",
    "        return self.item[index[0]][index[1]]\n",
    "    \n",
    "    def __len__(self):\n",
    "        print(len(self.item[0]))\n",
    "        return len(self.item)"
   ]
  },
  {
   "cell_type": "code",
   "execution_count": 16,
   "id": "bba5e6b6-513f-4600-9642-6e96775c8812",
   "metadata": {},
   "outputs": [],
   "source": [
    "x = [[1,2,3], [4,5,6]]\n",
    "y  = [[1,2], [3,4],[5,6]]"
   ]
  },
  {
   "cell_type": "code",
   "execution_count": 17,
   "id": "f324d4ca-fd35-4bdd-8537-0fb66c4fff2d",
   "metadata": {},
   "outputs": [
    {
     "data": {
      "text/plain": [
       "3"
      ]
     },
     "execution_count": 17,
     "metadata": {},
     "output_type": "execute_result"
    }
   ],
   "source": [
    "a1 = Matrix(x)\n",
    "a1[0,2]"
   ]
  },
  {
   "cell_type": "code",
   "execution_count": 18,
   "id": "e0ddb87c-00a8-47f5-a57c-64b506308e5b",
   "metadata": {},
   "outputs": [
    {
     "name": "stdout",
     "output_type": "stream",
     "text": [
      "3\n"
     ]
    },
    {
     "data": {
      "text/plain": [
       "2"
      ]
     },
     "execution_count": 18,
     "metadata": {},
     "output_type": "execute_result"
    }
   ],
   "source": [
    "len(a1)"
   ]
  },
  {
   "cell_type": "code",
   "execution_count": 19,
   "id": "a47f4e5f-0701-4af8-8794-b8069910fc58",
   "metadata": {},
   "outputs": [],
   "source": [
    "a2= Matrix(y)"
   ]
  },
  {
   "cell_type": "code",
   "execution_count": 20,
   "id": "3a870508-67b5-4181-8254-a1ce4cdbf114",
   "metadata": {},
   "outputs": [
    {
     "name": "stdout",
     "output_type": "stream",
     "text": [
      "2\n"
     ]
    },
    {
     "data": {
      "text/plain": [
       "3"
      ]
     },
     "execution_count": 20,
     "metadata": {},
     "output_type": "execute_result"
    }
   ],
   "source": [
    "len(a2)"
   ]
  },
  {
   "cell_type": "code",
   "execution_count": 21,
   "id": "d1d0236d-8635-4930-bff4-a37f2a1b3a3c",
   "metadata": {},
   "outputs": [],
   "source": [
    "(x_train, y_train, x_valid, y_valid) = map(torch.tensor, (x_train, y_train, x_valid, y_valid))"
   ]
  },
  {
   "cell_type": "code",
   "execution_count": 22,
   "id": "eb1e432f-6a6e-4298-9db2-21b25f569189",
   "metadata": {},
   "outputs": [
    {
     "data": {
      "text/plain": [
       "torch.Size([50000, 784])"
      ]
     },
     "execution_count": 22,
     "metadata": {},
     "output_type": "execute_result"
    }
   ],
   "source": [
    "x_train.shape"
   ]
  },
  {
   "cell_type": "code",
   "execution_count": 23,
   "id": "3e6c4e1c-ae22-40fd-9c77-273d8835219b",
   "metadata": {},
   "outputs": [
    {
     "data": {
      "text/plain": [
       "torch.Size([10000, 784])"
      ]
     },
     "execution_count": 23,
     "metadata": {},
     "output_type": "execute_result"
    }
   ],
   "source": [
    "x_valid.shape"
   ]
  },
  {
   "cell_type": "code",
   "execution_count": 24,
   "id": "f34baa9c-86a2-4b46-90e5-bdbfe2dfb910",
   "metadata": {},
   "outputs": [
    {
     "data": {
      "text/plain": [
       "tensor([[[0., 0., 0.,  ..., 0., 0., 0.],\n",
       "         [0., 0., 0.,  ..., 0., 0., 0.],\n",
       "         [0., 0., 0.,  ..., 0., 0., 0.],\n",
       "         ...,\n",
       "         [0., 0., 0.,  ..., 0., 0., 0.],\n",
       "         [0., 0., 0.,  ..., 0., 0., 0.],\n",
       "         [0., 0., 0.,  ..., 0., 0., 0.]],\n",
       "\n",
       "        [[0., 0., 0.,  ..., 0., 0., 0.],\n",
       "         [0., 0., 0.,  ..., 0., 0., 0.],\n",
       "         [0., 0., 0.,  ..., 0., 0., 0.],\n",
       "         ...,\n",
       "         [0., 0., 0.,  ..., 0., 0., 0.],\n",
       "         [0., 0., 0.,  ..., 0., 0., 0.],\n",
       "         [0., 0., 0.,  ..., 0., 0., 0.]],\n",
       "\n",
       "        [[0., 0., 0.,  ..., 0., 0., 0.],\n",
       "         [0., 0., 0.,  ..., 0., 0., 0.],\n",
       "         [0., 0., 0.,  ..., 0., 0., 0.],\n",
       "         ...,\n",
       "         [0., 0., 0.,  ..., 0., 0., 0.],\n",
       "         [0., 0., 0.,  ..., 0., 0., 0.],\n",
       "         [0., 0., 0.,  ..., 0., 0., 0.]],\n",
       "\n",
       "        ...,\n",
       "\n",
       "        [[0., 0., 0.,  ..., 0., 0., 0.],\n",
       "         [0., 0., 0.,  ..., 0., 0., 0.],\n",
       "         [0., 0., 0.,  ..., 0., 0., 0.],\n",
       "         ...,\n",
       "         [0., 0., 0.,  ..., 0., 0., 0.],\n",
       "         [0., 0., 0.,  ..., 0., 0., 0.],\n",
       "         [0., 0., 0.,  ..., 0., 0., 0.]],\n",
       "\n",
       "        [[0., 0., 0.,  ..., 0., 0., 0.],\n",
       "         [0., 0., 0.,  ..., 0., 0., 0.],\n",
       "         [0., 0., 0.,  ..., 0., 0., 0.],\n",
       "         ...,\n",
       "         [0., 0., 0.,  ..., 0., 0., 0.],\n",
       "         [0., 0., 0.,  ..., 0., 0., 0.],\n",
       "         [0., 0., 0.,  ..., 0., 0., 0.]],\n",
       "\n",
       "        [[0., 0., 0.,  ..., 0., 0., 0.],\n",
       "         [0., 0., 0.,  ..., 0., 0., 0.],\n",
       "         [0., 0., 0.,  ..., 0., 0., 0.],\n",
       "         ...,\n",
       "         [0., 0., 0.,  ..., 0., 0., 0.],\n",
       "         [0., 0., 0.,  ..., 0., 0., 0.],\n",
       "         [0., 0., 0.,  ..., 0., 0., 0.]]])"
      ]
     },
     "execution_count": 24,
     "metadata": {},
     "output_type": "execute_result"
    }
   ],
   "source": [
    "x_train.reshape((-1,28,28))"
   ]
  },
  {
   "cell_type": "code",
   "execution_count": 25,
   "id": "01d3a229-7381-4b8d-8255-94ee967db9f8",
   "metadata": {},
   "outputs": [
    {
     "data": {
      "text/plain": [
       "torch.Size([50000, 28, 28])"
      ]
     },
     "execution_count": 25,
     "metadata": {},
     "output_type": "execute_result"
    }
   ],
   "source": [
    "x_train.reshape((50000,28,28)).shape"
   ]
  },
  {
   "cell_type": "code",
   "execution_count": 26,
   "id": "0d22379e-42ff-4af8-abc8-79ca5b49a2c6",
   "metadata": {},
   "outputs": [
    {
     "data": {
      "text/plain": [
       "torch.Size([50000])"
      ]
     },
     "execution_count": 26,
     "metadata": {},
     "output_type": "execute_result"
    }
   ],
   "source": [
    "y_train.shape"
   ]
  },
  {
   "cell_type": "code",
   "execution_count": 27,
   "id": "05606213-d378-49da-a0b2-ccd05beca1d4",
   "metadata": {},
   "outputs": [
    {
     "data": {
      "text/plain": [
       "torch.Size([784, 10])"
      ]
     },
     "execution_count": 27,
     "metadata": {},
     "output_type": "execute_result"
    }
   ],
   "source": [
    "weight = torch.randn(784, 10)\n",
    "weight.shape"
   ]
  },
  {
   "cell_type": "code",
   "execution_count": 32,
   "id": "31236dbb-2b9e-409d-83d2-16648fa2ca25",
   "metadata": {},
   "outputs": [
    {
     "data": {
      "text/plain": [
       "tensor(0.)"
      ]
     },
     "execution_count": 32,
     "metadata": {},
     "output_type": "execute_result"
    }
   ],
   "source": [
    "x_train[0,0]*weight[0,3]"
   ]
  },
  {
   "cell_type": "code",
   "execution_count": 55,
   "id": "3805eae1-b92b-4348-8cbf-e9364e7116c2",
   "metadata": {},
   "outputs": [],
   "source": [
    "x_sample = x_train[:50]"
   ]
  },
  {
   "cell_type": "code",
   "execution_count": 62,
   "id": "f139da1e-8b96-4043-8ca2-aaedcfdc0098",
   "metadata": {},
   "outputs": [
    {
     "data": {
      "text/plain": [
       "torch.Size([50, 10])"
      ]
     },
     "execution_count": 62,
     "metadata": {},
     "output_type": "execute_result"
    }
   ],
   "source": [
    "i, j = x_sample.shape\n",
    "j, k= weight.shape\n",
    "res = torch.zeros(i, k)\n",
    "res.shape"
   ]
  },
  {
   "cell_type": "code",
   "execution_count": 63,
   "id": "8a0e0087-1697-4e86-bb37-9d23b8b0060d",
   "metadata": {},
   "outputs": [
    {
     "name": "stdout",
     "output_type": "stream",
     "text": [
      "CPU times: user 5.26 s, sys: 3.95 ms, total: 5.27 s\n",
      "Wall time: 5.26 s\n"
     ]
    }
   ],
   "source": [
    "%%time\n",
    "for a in range(i):\n",
    "    for b in range(j):\n",
    "        for c in range(k):\n",
    "            # print(x_train[a,b])\n",
    "            res[a,c] += x_sample[a,b]*weight[b,c]"
   ]
  },
  {
   "cell_type": "code",
   "execution_count": 64,
   "id": "2496c6e2-7e2a-4bae-aa58-b912447f7d56",
   "metadata": {},
   "outputs": [
    {
     "data": {
      "text/plain": [
       "tensor([[-7.34e+00,  5.02e-01, -1.66e+00, -1.41e+01,  3.64e+00,  8.64e+00, -1.04e+01, -1.80e+01,  9.76e+00,  1.52e+01],\n",
       "        [ 2.20e+00,  7.10e+00, -1.08e+00, -1.43e+01, -1.11e+01, -1.95e+00, -1.67e+01,  1.48e+01,  1.46e+01,  7.95e+00],\n",
       "        [ 1.85e+00, -5.52e+00,  2.29e+00,  9.31e+00,  6.94e-01,  1.62e+01, -5.26e+00, -4.01e+00,  1.57e+01, -9.32e+00],\n",
       "        [-5.23e+00, -1.18e+01, -4.14e-01, -3.82e+00, -1.60e+01, -2.43e+00, -3.97e+00, -9.43e+00,  1.38e+00,  8.60e+00],\n",
       "        [-9.99e+00, -5.23e-01,  2.14e+01, -1.65e+01, -5.07e+00,  1.35e+01,  3.67e+00, -1.84e+01, -7.43e+00,  1.07e+01],\n",
       "        [-4.29e+00, -9.85e+00,  1.33e+01, -4.82e+00, -1.40e+01,  2.80e+00, -7.95e+00, -1.02e+01,  1.26e+00,  8.63e+00],\n",
       "        [-1.46e+01, -1.06e+00,  1.20e+00, -9.86e+00,  3.33e+00,  1.25e+00, -1.53e-01, -3.64e+00, -2.94e+00,  1.17e+01],\n",
       "        [-1.16e+01, -3.45e+00,  5.31e+00, -9.35e+00,  1.53e+00, -2.53e+00, -2.29e+01, -2.44e+00,  1.93e+01,  2.10e+01],\n",
       "        [-9.56e+00,  1.09e+00,  7.91e-02, -1.21e+01,  9.44e+00,  6.31e+00, -2.04e+00, -7.00e+00, -9.68e+00,  6.83e+00],\n",
       "        [-5.10e+00,  2.46e+00,  8.15e+00,  1.39e+00, -1.06e+01,  2.45e+00, -1.60e+01, -6.74e+00, -3.68e+00,  1.44e+01],\n",
       "        [-1.54e+01,  8.08e+00,  2.75e+00, -1.16e+01,  8.30e+00, -4.04e-01, -1.14e+01, -6.42e+00, -1.60e+00,  2.05e+01],\n",
       "        [-1.11e+01, -1.03e+01, -4.44e-01,  3.17e+00, -1.04e+01,  2.24e+00, -3.49e+00, -9.42e-01, -6.91e+00,  4.61e+00],\n",
       "        [-1.41e+01, -5.88e+00, -8.26e+00, -1.05e+01, -1.73e+00,  1.39e+00, -3.41e+00, -5.26e+00,  1.34e+01,  1.82e+01],\n",
       "        [-7.17e+00, -3.38e+00,  9.87e+00,  1.01e+01,  5.51e+00, -5.12e+00, -4.03e+00, -2.12e+00, -5.30e+00,  1.99e+01],\n",
       "        [-1.55e+01,  7.27e-01,  9.75e-01, -1.10e+01,  2.88e+00,  5.21e+00,  2.37e+00, -6.45e+00, -1.22e+01,  1.03e+01],\n",
       "        [-4.43e+00, -4.87e+00,  1.48e+01, -9.98e+00, -7.15e+00,  4.74e+00, -8.25e+00,  4.03e+00, -1.96e+00,  1.83e+01],\n",
       "        [-5.73e+00, -5.26e+00,  5.08e+00,  2.83e+00, -6.83e-01, -3.83e+00, -2.58e+01, -4.40e+00,  2.13e+00,  1.88e+01],\n",
       "        [-8.15e+00, -2.97e+00,  2.81e+00, -1.36e+01, -1.83e+01, -4.62e+00, -1.99e+00, -2.00e+01, -3.66e+00,  2.23e+01],\n",
       "        [-7.81e+00,  6.49e+00, -3.44e+00, -6.10e+00, -2.94e+00,  6.62e-01, -2.64e+00, -8.04e+00, -7.55e+00,  1.15e+01],\n",
       "        [-5.14e+00, -1.20e-01,  3.36e+00, -1.07e+01, -1.05e+00,  3.95e+00, -1.58e+00, -1.28e+01, -9.52e+00,  1.09e+01],\n",
       "        [-1.01e+01, -8.96e+00,  4.94e+00, -5.86e+00, -3.70e-01,  4.65e+00, -9.98e+00, -8.37e+00,  8.49e+00,  7.76e+00],\n",
       "        [ 8.97e+00,  4.69e+00, -9.95e+00, -1.75e+01, -1.71e+01,  5.05e+00, -1.06e+01,  1.23e+01,  7.47e+00,  4.42e+00],\n",
       "        [ 4.20e+00,  2.18e+00,  4.91e+00, -4.31e+00, -9.65e+00,  5.01e+00, -4.88e+00, -1.97e+01, -1.33e+01,  1.66e+01],\n",
       "        [-8.02e+00, -1.23e+01,  1.98e+00, -2.96e+00, -9.90e+00, -3.29e+00, -4.57e+00, -8.79e+00,  2.56e+00,  8.43e+00],\n",
       "        [-9.24e+00, -2.43e-01,  9.81e+00, -4.60e+00,  6.65e+00, -8.99e+00,  9.87e+00, -1.12e+01, -5.74e+00,  1.82e+01],\n",
       "        [-2.51e+01, -7.70e+00,  7.18e+00, -1.59e+01, -8.55e+00, -3.55e+00, -9.75e+00, -1.88e+00,  1.64e+01,  2.30e+01],\n",
       "        [-7.90e-01,  2.39e+00,  5.04e+00,  4.30e+00,  6.70e+00,  1.42e+01,  2.06e-01, -1.10e+01, -2.25e+00,  3.68e+00],\n",
       "        [-1.19e+01, -4.63e+00, -4.51e+00, -1.95e+01,  2.21e+00, -2.06e+00, -1.51e+01,  3.64e+00,  1.61e+01,  2.97e+01],\n",
       "        [-1.28e+01, -1.34e+01,  1.59e+01, -1.46e+01, -1.66e+01,  1.96e+01, -2.27e+01,  6.33e+00,  2.57e+00,  1.32e+01],\n",
       "        [-1.30e+00, -1.18e+01,  7.45e+00,  9.89e+00, -7.37e+00,  5.39e+00,  5.39e+00, -3.91e+00, -4.86e+00,  1.11e+01],\n",
       "        [-7.11e+00, -4.87e+00,  6.73e+00, -8.35e+00, -5.32e-01,  8.39e+00,  1.13e-01, -7.57e+00,  1.67e+00,  1.11e+01],\n",
       "        [-4.89e+00,  3.27e+00, -4.63e+00, -1.32e+01, -9.35e+00, -3.48e+00, -9.05e+00, -1.42e+01, -1.60e-01,  3.25e+01],\n",
       "        [-2.46e+00,  1.02e+00,  1.74e+00,  8.59e+00, -4.93e+00, -1.11e+01,  6.24e-01, -7.59e+00, -1.40e+00,  1.01e+01],\n",
       "        [-1.32e+01, -1.71e+00,  1.35e+01, -2.48e+00, -3.30e-01,  6.38e+00, -5.13e+00, -6.68e+00, -4.16e+00,  1.31e+01],\n",
       "        [-7.35e+00, -3.35e+00,  1.93e+00, -1.25e+01, -6.39e+00,  1.27e+01, -1.86e+01,  4.90e+00,  9.10e+00,  1.59e+01],\n",
       "        [-1.12e+01, -1.57e+00,  2.95e+00,  1.30e+00,  1.27e+00,  5.58e+00, -6.09e+00, -1.85e+00, -7.67e+00,  7.93e+00],\n",
       "        [-5.28e+00,  4.08e+00,  5.19e+00, -1.07e+01,  2.59e+00,  5.06e+00, -2.73e+00, -2.61e+01,  1.08e+01,  1.72e+01],\n",
       "        [-5.34e+00,  1.36e+00,  3.82e+00, -8.37e+00, -1.32e+01,  2.35e+00, -1.93e+01,  1.02e+01,  9.47e+00,  1.77e+01],\n",
       "        [ 8.08e-01, -4.18e+00, -3.46e+00, -3.13e+00, -9.79e+00,  9.06e+00, -2.26e+01, -1.10e+01, -6.51e+00,  6.37e+00],\n",
       "        [-9.95e+00,  2.91e+00,  1.17e+01,  3.50e+00,  5.51e+00,  7.75e-01, -3.15e+00, -6.77e+00,  3.49e+00,  2.01e+01],\n",
       "        [-1.24e+01,  4.95e+00,  3.90e+00, -1.76e+01,  8.37e+00,  1.15e+01, -3.49e+00, -1.32e+01, -1.33e+01,  1.60e+01],\n",
       "        [-5.97e+00, -6.25e+00,  3.87e+00, -1.69e+01, -1.06e+01, -7.29e-01, -3.93e+00, -1.52e+01,  1.94e+00,  2.09e+01],\n",
       "        [-1.67e+00,  2.74e+00,  8.47e+00, -1.73e+01,  6.61e+00,  1.07e+01, -2.65e+00, -9.33e+00, -1.55e+01,  4.31e+00],\n",
       "        [ 5.72e-01,  1.19e+00,  1.07e+01, -1.01e+01, -1.59e+00,  4.69e+00,  3.59e+00, -2.01e+01, -5.06e+00,  2.25e+01],\n",
       "        [-1.28e+00, -9.25e+00, -4.13e+00, -1.02e+01, -1.16e+01,  1.78e+00, -9.01e+00, -1.25e+01,  3.69e+00,  4.83e+00],\n",
       "        [-1.35e-01,  9.01e+00,  2.14e+01, -1.69e+01, -6.81e-04,  1.11e+01, -6.97e+00, -1.40e+01, -1.29e+00,  1.27e+01],\n",
       "        [-3.11e+00,  1.19e+00,  2.90e+00, -2.51e+01, -1.38e+01, -1.54e+00, -9.06e+00, -1.83e+01,  2.68e-01,  1.23e+01],\n",
       "        [ 4.52e+00,  1.88e+00, -3.43e+00, -2.81e+00, -5.01e+00,  2.50e+00, -1.18e+01, -2.03e+00, -7.55e+00,  1.96e+01],\n",
       "        [-7.89e+00, -2.92e+00, -9.98e-01, -2.77e+00,  8.05e+00,  5.05e+00, -6.04e+00, -8.15e+00, -1.15e+00,  1.40e+01],\n",
       "        [-6.93e+00, -7.46e+00, -9.16e-01, -8.22e+00,  7.38e+00, -7.68e+00, -1.53e+01, -8.91e+00,  5.56e+00,  2.40e+01]])"
      ]
     },
     "execution_count": 64,
     "metadata": {},
     "output_type": "execute_result"
    }
   ],
   "source": [
    "res"
   ]
  },
  {
   "cell_type": "markdown",
   "id": "2863c341-a0de-4244-895b-879dff7ba63d",
   "metadata": {},
   "source": [
    "### Resume\n",
    "\n",
    "From https://youtu.be/6StU6UtZEbU?t=4900"
   ]
  },
  {
   "cell_type": "markdown",
   "id": "779b5d56-11da-44a2-90ee-7af0ad586862",
   "metadata": {},
   "source": [
    "Dot product optimization"
   ]
  },
  {
   "cell_type": "code",
   "execution_count": 60,
   "id": "352a225d-2933-4078-8fe0-467af85e2479",
   "metadata": {},
   "outputs": [
    {
     "name": "stdout",
     "output_type": "stream",
     "text": [
      "CPU times: user 23.1 ms, sys: 0 ns, total: 23.1 ms\n",
      "Wall time: 21.1 ms\n"
     ]
    }
   ],
   "source": [
    "%%time\n",
    "for a in range(i):\n",
    "    for c in range(k):\n",
    "        # print(x_train[a,b])\n",
    "        res[a,c] = (x_sample[a,:]*weight[:,c]).sum()"
   ]
  },
  {
   "cell_type": "code",
   "execution_count": 61,
   "id": "0721f3e8-d485-47dc-8d10-0c166f37d9f9",
   "metadata": {},
   "outputs": [
    {
     "data": {
      "text/plain": [
       "tensor([[-7.34e+00,  5.02e-01, -1.66e+00, -1.41e+01,  3.64e+00,  8.64e+00, -1.04e+01, -1.80e+01,  9.76e+00,  1.52e+01],\n",
       "        [ 2.20e+00,  7.10e+00, -1.08e+00, -1.43e+01, -1.11e+01, -1.95e+00, -1.67e+01,  1.48e+01,  1.46e+01,  7.95e+00],\n",
       "        [ 1.85e+00, -5.52e+00,  2.29e+00,  9.31e+00,  6.94e-01,  1.62e+01, -5.26e+00, -4.01e+00,  1.57e+01, -9.32e+00],\n",
       "        [-5.23e+00, -1.18e+01, -4.14e-01, -3.82e+00, -1.60e+01, -2.43e+00, -3.97e+00, -9.43e+00,  1.38e+00,  8.60e+00],\n",
       "        [-9.99e+00, -5.23e-01,  2.14e+01, -1.65e+01, -5.07e+00,  1.35e+01,  3.67e+00, -1.84e+01, -7.43e+00,  1.07e+01],\n",
       "        [-4.29e+00, -9.85e+00,  1.33e+01, -4.82e+00, -1.40e+01,  2.80e+00, -7.95e+00, -1.02e+01,  1.26e+00,  8.63e+00],\n",
       "        [-1.46e+01, -1.06e+00,  1.20e+00, -9.86e+00,  3.33e+00,  1.25e+00, -1.53e-01, -3.64e+00, -2.94e+00,  1.17e+01],\n",
       "        [-1.16e+01, -3.45e+00,  5.31e+00, -9.35e+00,  1.53e+00, -2.53e+00, -2.29e+01, -2.44e+00,  1.93e+01,  2.10e+01],\n",
       "        [-9.56e+00,  1.09e+00,  7.91e-02, -1.21e+01,  9.44e+00,  6.31e+00, -2.04e+00, -7.00e+00, -9.68e+00,  6.83e+00],\n",
       "        [-5.10e+00,  2.46e+00,  8.15e+00,  1.39e+00, -1.06e+01,  2.45e+00, -1.60e+01, -6.74e+00, -3.68e+00,  1.44e+01],\n",
       "        [-1.54e+01,  8.08e+00,  2.75e+00, -1.16e+01,  8.30e+00, -4.04e-01, -1.14e+01, -6.42e+00, -1.60e+00,  2.05e+01],\n",
       "        [-1.11e+01, -1.03e+01, -4.44e-01,  3.17e+00, -1.04e+01,  2.24e+00, -3.49e+00, -9.42e-01, -6.91e+00,  4.61e+00],\n",
       "        [-1.41e+01, -5.88e+00, -8.26e+00, -1.05e+01, -1.73e+00,  1.39e+00, -3.41e+00, -5.26e+00,  1.34e+01,  1.82e+01],\n",
       "        [-7.17e+00, -3.38e+00,  9.87e+00,  1.01e+01,  5.51e+00, -5.12e+00, -4.03e+00, -2.12e+00, -5.30e+00,  1.99e+01],\n",
       "        [-1.55e+01,  7.27e-01,  9.75e-01, -1.10e+01,  2.88e+00,  5.21e+00,  2.37e+00, -6.45e+00, -1.22e+01,  1.03e+01],\n",
       "        [-4.43e+00, -4.87e+00,  1.48e+01, -9.98e+00, -7.15e+00,  4.74e+00, -8.25e+00,  4.03e+00, -1.96e+00,  1.83e+01],\n",
       "        [-5.73e+00, -5.26e+00,  5.08e+00,  2.83e+00, -6.83e-01, -3.83e+00, -2.58e+01, -4.40e+00,  2.13e+00,  1.88e+01],\n",
       "        [-8.15e+00, -2.97e+00,  2.81e+00, -1.36e+01, -1.83e+01, -4.62e+00, -1.99e+00, -2.00e+01, -3.66e+00,  2.23e+01],\n",
       "        [-7.81e+00,  6.49e+00, -3.44e+00, -6.10e+00, -2.94e+00,  6.62e-01, -2.64e+00, -8.04e+00, -7.55e+00,  1.15e+01],\n",
       "        [-5.14e+00, -1.20e-01,  3.36e+00, -1.07e+01, -1.05e+00,  3.95e+00, -1.58e+00, -1.28e+01, -9.52e+00,  1.09e+01],\n",
       "        [-1.01e+01, -8.96e+00,  4.94e+00, -5.86e+00, -3.70e-01,  4.65e+00, -9.98e+00, -8.37e+00,  8.49e+00,  7.76e+00],\n",
       "        [ 8.97e+00,  4.69e+00, -9.95e+00, -1.75e+01, -1.71e+01,  5.05e+00, -1.06e+01,  1.23e+01,  7.47e+00,  4.42e+00],\n",
       "        [ 4.20e+00,  2.18e+00,  4.91e+00, -4.31e+00, -9.65e+00,  5.01e+00, -4.88e+00, -1.97e+01, -1.33e+01,  1.66e+01],\n",
       "        [-8.02e+00, -1.23e+01,  1.98e+00, -2.96e+00, -9.90e+00, -3.29e+00, -4.57e+00, -8.79e+00,  2.56e+00,  8.43e+00],\n",
       "        [-9.24e+00, -2.43e-01,  9.81e+00, -4.60e+00,  6.65e+00, -8.99e+00,  9.87e+00, -1.12e+01, -5.74e+00,  1.82e+01],\n",
       "        [-2.51e+01, -7.70e+00,  7.18e+00, -1.59e+01, -8.55e+00, -3.55e+00, -9.75e+00, -1.88e+00,  1.64e+01,  2.30e+01],\n",
       "        [-7.90e-01,  2.39e+00,  5.04e+00,  4.30e+00,  6.70e+00,  1.42e+01,  2.06e-01, -1.10e+01, -2.25e+00,  3.68e+00],\n",
       "        [-1.19e+01, -4.63e+00, -4.51e+00, -1.95e+01,  2.21e+00, -2.06e+00, -1.51e+01,  3.64e+00,  1.61e+01,  2.97e+01],\n",
       "        [-1.28e+01, -1.34e+01,  1.59e+01, -1.46e+01, -1.66e+01,  1.96e+01, -2.27e+01,  6.33e+00,  2.57e+00,  1.32e+01],\n",
       "        [-1.30e+00, -1.18e+01,  7.45e+00,  9.89e+00, -7.37e+00,  5.39e+00,  5.39e+00, -3.91e+00, -4.86e+00,  1.11e+01],\n",
       "        [-7.11e+00, -4.87e+00,  6.73e+00, -8.35e+00, -5.32e-01,  8.39e+00,  1.13e-01, -7.57e+00,  1.67e+00,  1.11e+01],\n",
       "        [-4.89e+00,  3.27e+00, -4.63e+00, -1.32e+01, -9.35e+00, -3.48e+00, -9.05e+00, -1.42e+01, -1.60e-01,  3.25e+01],\n",
       "        [-2.46e+00,  1.02e+00,  1.74e+00,  8.59e+00, -4.93e+00, -1.11e+01,  6.24e-01, -7.59e+00, -1.40e+00,  1.01e+01],\n",
       "        [-1.32e+01, -1.71e+00,  1.35e+01, -2.48e+00, -3.30e-01,  6.38e+00, -5.13e+00, -6.68e+00, -4.16e+00,  1.31e+01],\n",
       "        [-7.35e+00, -3.35e+00,  1.93e+00, -1.25e+01, -6.39e+00,  1.27e+01, -1.86e+01,  4.90e+00,  9.10e+00,  1.59e+01],\n",
       "        [-1.12e+01, -1.57e+00,  2.95e+00,  1.30e+00,  1.27e+00,  5.58e+00, -6.09e+00, -1.85e+00, -7.67e+00,  7.93e+00],\n",
       "        [-5.28e+00,  4.08e+00,  5.19e+00, -1.07e+01,  2.59e+00,  5.06e+00, -2.73e+00, -2.61e+01,  1.08e+01,  1.72e+01],\n",
       "        [-5.34e+00,  1.36e+00,  3.82e+00, -8.37e+00, -1.32e+01,  2.35e+00, -1.93e+01,  1.02e+01,  9.47e+00,  1.77e+01],\n",
       "        [ 8.08e-01, -4.18e+00, -3.46e+00, -3.13e+00, -9.79e+00,  9.06e+00, -2.26e+01, -1.10e+01, -6.51e+00,  6.37e+00],\n",
       "        [-9.95e+00,  2.91e+00,  1.17e+01,  3.50e+00,  5.51e+00,  7.75e-01, -3.15e+00, -6.77e+00,  3.49e+00,  2.01e+01],\n",
       "        [-1.24e+01,  4.95e+00,  3.90e+00, -1.76e+01,  8.37e+00,  1.15e+01, -3.49e+00, -1.32e+01, -1.33e+01,  1.60e+01],\n",
       "        [-5.97e+00, -6.25e+00,  3.87e+00, -1.69e+01, -1.06e+01, -7.29e-01, -3.93e+00, -1.52e+01,  1.94e+00,  2.09e+01],\n",
       "        [-1.67e+00,  2.74e+00,  8.47e+00, -1.73e+01,  6.61e+00,  1.07e+01, -2.65e+00, -9.33e+00, -1.55e+01,  4.31e+00],\n",
       "        [ 5.72e-01,  1.19e+00,  1.07e+01, -1.01e+01, -1.59e+00,  4.69e+00,  3.59e+00, -2.01e+01, -5.06e+00,  2.25e+01],\n",
       "        [-1.28e+00, -9.25e+00, -4.13e+00, -1.02e+01, -1.16e+01,  1.78e+00, -9.01e+00, -1.25e+01,  3.69e+00,  4.83e+00],\n",
       "        [-1.35e-01,  9.01e+00,  2.14e+01, -1.69e+01, -6.79e-04,  1.11e+01, -6.97e+00, -1.40e+01, -1.29e+00,  1.27e+01],\n",
       "        [-3.11e+00,  1.19e+00,  2.90e+00, -2.51e+01, -1.38e+01, -1.54e+00, -9.06e+00, -1.83e+01,  2.68e-01,  1.23e+01],\n",
       "        [ 4.52e+00,  1.88e+00, -3.43e+00, -2.81e+00, -5.01e+00,  2.50e+00, -1.18e+01, -2.03e+00, -7.55e+00,  1.96e+01],\n",
       "        [-7.89e+00, -2.92e+00, -9.98e-01, -2.77e+00,  8.05e+00,  5.05e+00, -6.04e+00, -8.15e+00, -1.15e+00,  1.40e+01],\n",
       "        [-6.93e+00, -7.46e+00, -9.16e-01, -8.22e+00,  7.38e+00, -7.68e+00, -1.53e+01, -8.91e+00,  5.56e+00,  2.40e+01]])"
      ]
     },
     "execution_count": 61,
     "metadata": {},
     "output_type": "execute_result"
    }
   ],
   "source": [
    "res"
   ]
  },
  {
   "cell_type": "code",
   "execution_count": null,
   "id": "1fad5c65-cd69-4fdb-9347-13b5573712ae",
   "metadata": {},
   "outputs": [],
   "source": []
  }
 ],
 "metadata": {
  "kernelspec": {
   "display_name": "Python 3 (ipykernel)",
   "language": "python",
   "name": "python3"
  },
  "language_info": {
   "codemirror_mode": {
    "name": "ipython",
    "version": 3
   },
   "file_extension": ".py",
   "mimetype": "text/x-python",
   "name": "python",
   "nbconvert_exporter": "python",
   "pygments_lexer": "ipython3",
   "version": "3.8.12"
  },
  "toc-autonumbering": true,
  "toc-showcode": true
 },
 "nbformat": 4,
 "nbformat_minor": 5
}
